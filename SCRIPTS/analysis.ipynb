{
  "cells": [
    {
      "cell_type": "markdown",
      "id": "13ad028b-72b7-43ed-aa78-96fd4e518040",
      "metadata": {
        "id": "13ad028b-72b7-43ed-aa78-96fd4e518040"
      },
      "source": [
        "# Data Analysis\n",
        "\n"
      ]
    },
    {
      "cell_type": "code",
      "source": [
        "!pip install ace-tools"
      ],
      "metadata": {
        "id": "fV9YD1-co8P7",
        "outputId": "a1a9fc64-84da-467c-8fd1-d15f3e10acbc",
        "colab": {
          "base_uri": "https://localhost:8080/"
        }
      },
      "id": "fV9YD1-co8P7",
      "execution_count": 1,
      "outputs": [
        {
          "output_type": "stream",
          "name": "stdout",
          "text": [
            "Collecting ace-tools\n",
            "  Downloading ace_tools-0.0-py3-none-any.whl.metadata (300 bytes)\n",
            "Downloading ace_tools-0.0-py3-none-any.whl (1.1 kB)\n",
            "Installing collected packages: ace-tools\n",
            "Successfully installed ace-tools-0.0\n"
          ]
        }
      ]
    },
    {
      "cell_type": "code",
      "source": [
        "import pandas as pd\n",
        "import seaborn as sns\n",
        "import matplotlib.pyplot as plt\n",
        "import numpy as np\n",
        "\n",
        "amazon = pd.read_csv(\"https://raw.githubusercontent.com/amanzanares410/ds4002-project1/refs/heads/main/DATA/amazon_clothing_reviews.csv\")\n",
        "print(amazon.shape)\n",
        "amazon.head()\n"
      ],
      "metadata": {
        "id": "ahx4Bfox6TL2",
        "colab": {
          "base_uri": "https://localhost:8080/",
          "height": 275
        },
        "outputId": "a1b17ebd-1d69-403d-9295-7ca11b8652b0"
      },
      "id": "ahx4Bfox6TL2",
      "execution_count": 2,
      "outputs": [
        {
          "output_type": "stream",
          "name": "stdout",
          "text": [
            "(6525, 11)\n"
          ]
        },
        {
          "output_type": "execute_result",
          "data": {
            "text/plain": [
              "   Unnamed: 0  Clothing ID  Age                    Title  \\\n",
              "0           0          767   33                      NaN   \n",
              "1           1         1080   34                      NaN   \n",
              "2           2         1077   60  Some major design flaws   \n",
              "3           3         1049   50         My favorite buy!   \n",
              "4           4          847   47         Flattering shirt   \n",
              "\n",
              "                                         Review Text  Rating  Recommended IND  \\\n",
              "0  Absolutely wonderful - silky and sexy and comf...       4                1   \n",
              "1  Love this dress!  it's sooo pretty.  i happene...       5                1   \n",
              "2  I had such high hopes for this dress and reall...       3                0   \n",
              "3  I love, love, love this jumpsuit. it's fun, fl...       5                1   \n",
              "4  This shirt is very flattering to all due to th...       5                1   \n",
              "\n",
              "   Positive Feedback Count   Division Name Department Name Class Name  \n",
              "0                        0       Initmates        Intimate  Intimates  \n",
              "1                        4         General         Dresses    Dresses  \n",
              "2                        0         General         Dresses    Dresses  \n",
              "3                        0  General Petite         Bottoms      Pants  \n",
              "4                        6         General            Tops    Blouses  "
            ],
            "text/html": [
              "\n",
              "  <div id=\"df-ce5956b2-67ba-4bf3-968a-e375b395bcae\" class=\"colab-df-container\">\n",
              "    <div>\n",
              "<style scoped>\n",
              "    .dataframe tbody tr th:only-of-type {\n",
              "        vertical-align: middle;\n",
              "    }\n",
              "\n",
              "    .dataframe tbody tr th {\n",
              "        vertical-align: top;\n",
              "    }\n",
              "\n",
              "    .dataframe thead th {\n",
              "        text-align: right;\n",
              "    }\n",
              "</style>\n",
              "<table border=\"1\" class=\"dataframe\">\n",
              "  <thead>\n",
              "    <tr style=\"text-align: right;\">\n",
              "      <th></th>\n",
              "      <th>Unnamed: 0</th>\n",
              "      <th>Clothing ID</th>\n",
              "      <th>Age</th>\n",
              "      <th>Title</th>\n",
              "      <th>Review Text</th>\n",
              "      <th>Rating</th>\n",
              "      <th>Recommended IND</th>\n",
              "      <th>Positive Feedback Count</th>\n",
              "      <th>Division Name</th>\n",
              "      <th>Department Name</th>\n",
              "      <th>Class Name</th>\n",
              "    </tr>\n",
              "  </thead>\n",
              "  <tbody>\n",
              "    <tr>\n",
              "      <th>0</th>\n",
              "      <td>0</td>\n",
              "      <td>767</td>\n",
              "      <td>33</td>\n",
              "      <td>NaN</td>\n",
              "      <td>Absolutely wonderful - silky and sexy and comf...</td>\n",
              "      <td>4</td>\n",
              "      <td>1</td>\n",
              "      <td>0</td>\n",
              "      <td>Initmates</td>\n",
              "      <td>Intimate</td>\n",
              "      <td>Intimates</td>\n",
              "    </tr>\n",
              "    <tr>\n",
              "      <th>1</th>\n",
              "      <td>1</td>\n",
              "      <td>1080</td>\n",
              "      <td>34</td>\n",
              "      <td>NaN</td>\n",
              "      <td>Love this dress!  it's sooo pretty.  i happene...</td>\n",
              "      <td>5</td>\n",
              "      <td>1</td>\n",
              "      <td>4</td>\n",
              "      <td>General</td>\n",
              "      <td>Dresses</td>\n",
              "      <td>Dresses</td>\n",
              "    </tr>\n",
              "    <tr>\n",
              "      <th>2</th>\n",
              "      <td>2</td>\n",
              "      <td>1077</td>\n",
              "      <td>60</td>\n",
              "      <td>Some major design flaws</td>\n",
              "      <td>I had such high hopes for this dress and reall...</td>\n",
              "      <td>3</td>\n",
              "      <td>0</td>\n",
              "      <td>0</td>\n",
              "      <td>General</td>\n",
              "      <td>Dresses</td>\n",
              "      <td>Dresses</td>\n",
              "    </tr>\n",
              "    <tr>\n",
              "      <th>3</th>\n",
              "      <td>3</td>\n",
              "      <td>1049</td>\n",
              "      <td>50</td>\n",
              "      <td>My favorite buy!</td>\n",
              "      <td>I love, love, love this jumpsuit. it's fun, fl...</td>\n",
              "      <td>5</td>\n",
              "      <td>1</td>\n",
              "      <td>0</td>\n",
              "      <td>General Petite</td>\n",
              "      <td>Bottoms</td>\n",
              "      <td>Pants</td>\n",
              "    </tr>\n",
              "    <tr>\n",
              "      <th>4</th>\n",
              "      <td>4</td>\n",
              "      <td>847</td>\n",
              "      <td>47</td>\n",
              "      <td>Flattering shirt</td>\n",
              "      <td>This shirt is very flattering to all due to th...</td>\n",
              "      <td>5</td>\n",
              "      <td>1</td>\n",
              "      <td>6</td>\n",
              "      <td>General</td>\n",
              "      <td>Tops</td>\n",
              "      <td>Blouses</td>\n",
              "    </tr>\n",
              "  </tbody>\n",
              "</table>\n",
              "</div>\n",
              "    <div class=\"colab-df-buttons\">\n",
              "\n",
              "  <div class=\"colab-df-container\">\n",
              "    <button class=\"colab-df-convert\" onclick=\"convertToInteractive('df-ce5956b2-67ba-4bf3-968a-e375b395bcae')\"\n",
              "            title=\"Convert this dataframe to an interactive table.\"\n",
              "            style=\"display:none;\">\n",
              "\n",
              "  <svg xmlns=\"http://www.w3.org/2000/svg\" height=\"24px\" viewBox=\"0 -960 960 960\">\n",
              "    <path d=\"M120-120v-720h720v720H120Zm60-500h600v-160H180v160Zm220 220h160v-160H400v160Zm0 220h160v-160H400v160ZM180-400h160v-160H180v160Zm440 0h160v-160H620v160ZM180-180h160v-160H180v160Zm440 0h160v-160H620v160Z\"/>\n",
              "  </svg>\n",
              "    </button>\n",
              "\n",
              "  <style>\n",
              "    .colab-df-container {\n",
              "      display:flex;\n",
              "      gap: 12px;\n",
              "    }\n",
              "\n",
              "    .colab-df-convert {\n",
              "      background-color: #E8F0FE;\n",
              "      border: none;\n",
              "      border-radius: 50%;\n",
              "      cursor: pointer;\n",
              "      display: none;\n",
              "      fill: #1967D2;\n",
              "      height: 32px;\n",
              "      padding: 0 0 0 0;\n",
              "      width: 32px;\n",
              "    }\n",
              "\n",
              "    .colab-df-convert:hover {\n",
              "      background-color: #E2EBFA;\n",
              "      box-shadow: 0px 1px 2px rgba(60, 64, 67, 0.3), 0px 1px 3px 1px rgba(60, 64, 67, 0.15);\n",
              "      fill: #174EA6;\n",
              "    }\n",
              "\n",
              "    .colab-df-buttons div {\n",
              "      margin-bottom: 4px;\n",
              "    }\n",
              "\n",
              "    [theme=dark] .colab-df-convert {\n",
              "      background-color: #3B4455;\n",
              "      fill: #D2E3FC;\n",
              "    }\n",
              "\n",
              "    [theme=dark] .colab-df-convert:hover {\n",
              "      background-color: #434B5C;\n",
              "      box-shadow: 0px 1px 3px 1px rgba(0, 0, 0, 0.15);\n",
              "      filter: drop-shadow(0px 1px 2px rgba(0, 0, 0, 0.3));\n",
              "      fill: #FFFFFF;\n",
              "    }\n",
              "  </style>\n",
              "\n",
              "    <script>\n",
              "      const buttonEl =\n",
              "        document.querySelector('#df-ce5956b2-67ba-4bf3-968a-e375b395bcae button.colab-df-convert');\n",
              "      buttonEl.style.display =\n",
              "        google.colab.kernel.accessAllowed ? 'block' : 'none';\n",
              "\n",
              "      async function convertToInteractive(key) {\n",
              "        const element = document.querySelector('#df-ce5956b2-67ba-4bf3-968a-e375b395bcae');\n",
              "        const dataTable =\n",
              "          await google.colab.kernel.invokeFunction('convertToInteractive',\n",
              "                                                    [key], {});\n",
              "        if (!dataTable) return;\n",
              "\n",
              "        const docLinkHtml = 'Like what you see? Visit the ' +\n",
              "          '<a target=\"_blank\" href=https://colab.research.google.com/notebooks/data_table.ipynb>data table notebook</a>'\n",
              "          + ' to learn more about interactive tables.';\n",
              "        element.innerHTML = '';\n",
              "        dataTable['output_type'] = 'display_data';\n",
              "        await google.colab.output.renderOutput(dataTable, element);\n",
              "        const docLink = document.createElement('div');\n",
              "        docLink.innerHTML = docLinkHtml;\n",
              "        element.appendChild(docLink);\n",
              "      }\n",
              "    </script>\n",
              "  </div>\n",
              "\n",
              "\n",
              "<div id=\"df-5c8b4965-0ad9-4000-aa48-f7a0308dbaac\">\n",
              "  <button class=\"colab-df-quickchart\" onclick=\"quickchart('df-5c8b4965-0ad9-4000-aa48-f7a0308dbaac')\"\n",
              "            title=\"Suggest charts\"\n",
              "            style=\"display:none;\">\n",
              "\n",
              "<svg xmlns=\"http://www.w3.org/2000/svg\" height=\"24px\"viewBox=\"0 0 24 24\"\n",
              "     width=\"24px\">\n",
              "    <g>\n",
              "        <path d=\"M19 3H5c-1.1 0-2 .9-2 2v14c0 1.1.9 2 2 2h14c1.1 0 2-.9 2-2V5c0-1.1-.9-2-2-2zM9 17H7v-7h2v7zm4 0h-2V7h2v10zm4 0h-2v-4h2v4z\"/>\n",
              "    </g>\n",
              "</svg>\n",
              "  </button>\n",
              "\n",
              "<style>\n",
              "  .colab-df-quickchart {\n",
              "      --bg-color: #E8F0FE;\n",
              "      --fill-color: #1967D2;\n",
              "      --hover-bg-color: #E2EBFA;\n",
              "      --hover-fill-color: #174EA6;\n",
              "      --disabled-fill-color: #AAA;\n",
              "      --disabled-bg-color: #DDD;\n",
              "  }\n",
              "\n",
              "  [theme=dark] .colab-df-quickchart {\n",
              "      --bg-color: #3B4455;\n",
              "      --fill-color: #D2E3FC;\n",
              "      --hover-bg-color: #434B5C;\n",
              "      --hover-fill-color: #FFFFFF;\n",
              "      --disabled-bg-color: #3B4455;\n",
              "      --disabled-fill-color: #666;\n",
              "  }\n",
              "\n",
              "  .colab-df-quickchart {\n",
              "    background-color: var(--bg-color);\n",
              "    border: none;\n",
              "    border-radius: 50%;\n",
              "    cursor: pointer;\n",
              "    display: none;\n",
              "    fill: var(--fill-color);\n",
              "    height: 32px;\n",
              "    padding: 0;\n",
              "    width: 32px;\n",
              "  }\n",
              "\n",
              "  .colab-df-quickchart:hover {\n",
              "    background-color: var(--hover-bg-color);\n",
              "    box-shadow: 0 1px 2px rgba(60, 64, 67, 0.3), 0 1px 3px 1px rgba(60, 64, 67, 0.15);\n",
              "    fill: var(--button-hover-fill-color);\n",
              "  }\n",
              "\n",
              "  .colab-df-quickchart-complete:disabled,\n",
              "  .colab-df-quickchart-complete:disabled:hover {\n",
              "    background-color: var(--disabled-bg-color);\n",
              "    fill: var(--disabled-fill-color);\n",
              "    box-shadow: none;\n",
              "  }\n",
              "\n",
              "  .colab-df-spinner {\n",
              "    border: 2px solid var(--fill-color);\n",
              "    border-color: transparent;\n",
              "    border-bottom-color: var(--fill-color);\n",
              "    animation:\n",
              "      spin 1s steps(1) infinite;\n",
              "  }\n",
              "\n",
              "  @keyframes spin {\n",
              "    0% {\n",
              "      border-color: transparent;\n",
              "      border-bottom-color: var(--fill-color);\n",
              "      border-left-color: var(--fill-color);\n",
              "    }\n",
              "    20% {\n",
              "      border-color: transparent;\n",
              "      border-left-color: var(--fill-color);\n",
              "      border-top-color: var(--fill-color);\n",
              "    }\n",
              "    30% {\n",
              "      border-color: transparent;\n",
              "      border-left-color: var(--fill-color);\n",
              "      border-top-color: var(--fill-color);\n",
              "      border-right-color: var(--fill-color);\n",
              "    }\n",
              "    40% {\n",
              "      border-color: transparent;\n",
              "      border-right-color: var(--fill-color);\n",
              "      border-top-color: var(--fill-color);\n",
              "    }\n",
              "    60% {\n",
              "      border-color: transparent;\n",
              "      border-right-color: var(--fill-color);\n",
              "    }\n",
              "    80% {\n",
              "      border-color: transparent;\n",
              "      border-right-color: var(--fill-color);\n",
              "      border-bottom-color: var(--fill-color);\n",
              "    }\n",
              "    90% {\n",
              "      border-color: transparent;\n",
              "      border-bottom-color: var(--fill-color);\n",
              "    }\n",
              "  }\n",
              "</style>\n",
              "\n",
              "  <script>\n",
              "    async function quickchart(key) {\n",
              "      const quickchartButtonEl =\n",
              "        document.querySelector('#' + key + ' button');\n",
              "      quickchartButtonEl.disabled = true;  // To prevent multiple clicks.\n",
              "      quickchartButtonEl.classList.add('colab-df-spinner');\n",
              "      try {\n",
              "        const charts = await google.colab.kernel.invokeFunction(\n",
              "            'suggestCharts', [key], {});\n",
              "      } catch (error) {\n",
              "        console.error('Error during call to suggestCharts:', error);\n",
              "      }\n",
              "      quickchartButtonEl.classList.remove('colab-df-spinner');\n",
              "      quickchartButtonEl.classList.add('colab-df-quickchart-complete');\n",
              "    }\n",
              "    (() => {\n",
              "      let quickchartButtonEl =\n",
              "        document.querySelector('#df-5c8b4965-0ad9-4000-aa48-f7a0308dbaac button');\n",
              "      quickchartButtonEl.style.display =\n",
              "        google.colab.kernel.accessAllowed ? 'block' : 'none';\n",
              "    })();\n",
              "  </script>\n",
              "</div>\n",
              "\n",
              "    </div>\n",
              "  </div>\n"
            ],
            "application/vnd.google.colaboratory.intrinsic+json": {
              "type": "dataframe",
              "variable_name": "amazon",
              "summary": "{\n  \"name\": \"amazon\",\n  \"rows\": 6525,\n  \"fields\": [\n    {\n      \"column\": \"Unnamed: 0\",\n      \"properties\": {\n        \"dtype\": \"number\",\n        \"std\": 1883,\n        \"min\": 0,\n        \"max\": 6524,\n        \"num_unique_values\": 6525,\n        \"samples\": [\n          4832,\n          5613,\n          6123\n        ],\n        \"semantic_type\": \"\",\n        \"description\": \"\"\n      }\n    },\n    {\n      \"column\": \"Clothing ID\",\n      \"properties\": {\n        \"dtype\": \"number\",\n        \"std\": 194,\n        \"min\": 2,\n        \"max\": 1204,\n        \"num_unique_values\": 462,\n        \"samples\": [\n          1009,\n          836,\n          1008\n        ],\n        \"semantic_type\": \"\",\n        \"description\": \"\"\n      }\n    },\n    {\n      \"column\": \"Age\",\n      \"properties\": {\n        \"dtype\": \"number\",\n        \"std\": 12,\n        \"min\": 19,\n        \"max\": 93,\n        \"num_unique_values\": 70,\n        \"samples\": [\n          40,\n          33,\n          72\n        ],\n        \"semantic_type\": \"\",\n        \"description\": \"\"\n      }\n    },\n    {\n      \"column\": \"Title\",\n      \"properties\": {\n        \"dtype\": \"string\",\n        \"num_unique_values\": 4385,\n        \"samples\": [\n          \"Frayed bottom hem.....\",\n          \"Love these pants but they are not colorfast --\",\n          \"If only it looked like the photo.....\"\n        ],\n        \"semantic_type\": \"\",\n        \"description\": \"\"\n      }\n    },\n    {\n      \"column\": \"Review Text\",\n      \"properties\": {\n        \"dtype\": \"string\",\n        \"num_unique_values\": 6296,\n        \"samples\": [\n          \"Kicky looking pants, that i got at a bargain basement steal. i'd be kicking myself if i didn't buy them. can't wait to wear them once it warms up. they'll look great with a lightweight, boxy sweater and flats. i tried on the 4 and the 2 and the 2 is perfect. the fabric has a nice, fluid feel to it. i always swore to my husband i'd never wear plaids, but i guess i lied.\",\n          \"These pants are very soft and comfortable.  great for lounging around the house and for sleeping.\",\n          \"This dress is lovely. the colors seem a bit more muted than as reflected on model; otherwise, looks very similar to photo. it has a slimline style and is very flattering. the dress has a more casual appearance than as is reflected in the photo. its really more of a day dress than a special occasion dress, notwithstanding another reviewer's opinion to the contrary.\\n\\ni ordered up a size due to reading other reviews. i found it to be a bit larger than i wanted so i washed and tumble dried it on low\"\n        ],\n        \"semantic_type\": \"\",\n        \"description\": \"\"\n      }\n    },\n    {\n      \"column\": \"Rating\",\n      \"properties\": {\n        \"dtype\": \"number\",\n        \"std\": 1,\n        \"min\": 1,\n        \"max\": 5,\n        \"num_unique_values\": 5,\n        \"samples\": [\n          5,\n          1,\n          3\n        ],\n        \"semantic_type\": \"\",\n        \"description\": \"\"\n      }\n    },\n    {\n      \"column\": \"Recommended IND\",\n      \"properties\": {\n        \"dtype\": \"number\",\n        \"std\": 0,\n        \"min\": 0,\n        \"max\": 1,\n        \"num_unique_values\": 2,\n        \"samples\": [\n          0,\n          1\n        ],\n        \"semantic_type\": \"\",\n        \"description\": \"\"\n      }\n    },\n    {\n      \"column\": \"Positive Feedback Count\",\n      \"properties\": {\n        \"dtype\": \"number\",\n        \"std\": 6,\n        \"min\": 0,\n        \"max\": 117,\n        \"num_unique_values\": 61,\n        \"samples\": [\n          0,\n          2\n        ],\n        \"semantic_type\": \"\",\n        \"description\": \"\"\n      }\n    },\n    {\n      \"column\": \"Division Name\",\n      \"properties\": {\n        \"dtype\": \"category\",\n        \"num_unique_values\": 3,\n        \"samples\": [\n          \"Initmates\",\n          \"General\"\n        ],\n        \"semantic_type\": \"\",\n        \"description\": \"\"\n      }\n    },\n    {\n      \"column\": \"Department Name\",\n      \"properties\": {\n        \"dtype\": \"category\",\n        \"num_unique_values\": 6,\n        \"samples\": [\n          \"Intimate\",\n          \"Dresses\"\n        ],\n        \"semantic_type\": \"\",\n        \"description\": \"\"\n      }\n    },\n    {\n      \"column\": \"Class Name\",\n      \"properties\": {\n        \"dtype\": \"category\",\n        \"num_unique_values\": 19,\n        \"samples\": [\n          \"Intimates\",\n          \"Outerwear\"\n        ],\n        \"semantic_type\": \"\",\n        \"description\": \"\"\n      }\n    }\n  ]\n}"
            }
          },
          "metadata": {},
          "execution_count": 2
        }
      ]
    },
    {
      "cell_type": "markdown",
      "source": [
        "The data dimensions are 6525 x 11, so there are 6525 observations of 11\n",
        "variables.\n",
        "\n"
      ],
      "metadata": {
        "id": "ER3EqnS2tzaG"
      },
      "id": "ER3EqnS2tzaG"
    },
    {
      "cell_type": "code",
      "source": [
        "fashion_nova = pd.read_csv('https://raw.githubusercontent.com/amanzanares410/DS4002-Project1/refs/heads/main/DATA/fashionnova_reviews.csv')\n",
        "print(fashion_nova.shape)\n",
        "fashion_nova.head()"
      ],
      "metadata": {
        "colab": {
          "base_uri": "https://localhost:8080/",
          "height": 327
        },
        "id": "Bj_Vj4s3e0te",
        "outputId": "680f254c-919f-4a6c-c188-bee6c1f156af"
      },
      "id": "Bj_Vj4s3e0te",
      "execution_count": 3,
      "outputs": [
        {
          "output_type": "stream",
          "name": "stdout",
          "text": [
            "(131980, 9)\n"
          ]
        },
        {
          "output_type": "execute_result",
          "data": {
            "text/plain": [
              "     Reviewer Name                     Profile Link Country Review Count  \\\n",
              "0        Champagne  /users/66c78240087b6269ffbcb5fb      US     1 review   \n",
              "1      Vg customer  /users/6618fdb53d4198001210cbe7      VG    3 reviews   \n",
              "2  Colleen Burgher  /users/64e9595206be1a001244ff73      US    3 reviews   \n",
              "3            R.G.M  /users/66c58ad1c6ab36352a08f57a      US     1 review   \n",
              "4   Rosalyn Cousar  /users/60ad4b6ef3788e001adbb8e3      US    5 reviews   \n",
              "\n",
              "                Review Date                  Rating  \\\n",
              "0  2024-08-22T20:24:02.000Z  Rated 5 out of 5 stars   \n",
              "1  2024-08-21T05:43:11.000Z  Rated 5 out of 5 stars   \n",
              "2  2024-08-21T17:09:14.000Z  Rated 5 out of 5 stars   \n",
              "3  2024-08-21T08:36:03.000Z  Rated 5 out of 5 stars   \n",
              "4  2024-08-22T00:46:16.000Z  Rated 3 out of 5 stars   \n",
              "\n",
              "                          Review Title  \\\n",
              "0    I love ordering from fashion nova   \n",
              "1   Top tier content for fashion nova    \n",
              "2  Prices and quality of products are…   \n",
              "3               Great customer service   \n",
              "4                    False advertising   \n",
              "\n",
              "                                         Review Text Date of Experience  \n",
              "0  I love ordering from fashion nova. The clothes...    August 22, 2024  \n",
              "1  Always amazing clothes and the fast shipping i...    August 18, 2024  \n",
              "2  Prices and quality of products are GREAT Would...    August 21, 2024  \n",
              "3  Great customer service. I was helped until the...    August 20, 2024  \n",
              "4  Disappointing experience. You don’t live up to...    August 21, 2024  "
            ],
            "text/html": [
              "\n",
              "  <div id=\"df-34affe2d-4bc6-4c4e-8a19-4b9bb7827f0b\" class=\"colab-df-container\">\n",
              "    <div>\n",
              "<style scoped>\n",
              "    .dataframe tbody tr th:only-of-type {\n",
              "        vertical-align: middle;\n",
              "    }\n",
              "\n",
              "    .dataframe tbody tr th {\n",
              "        vertical-align: top;\n",
              "    }\n",
              "\n",
              "    .dataframe thead th {\n",
              "        text-align: right;\n",
              "    }\n",
              "</style>\n",
              "<table border=\"1\" class=\"dataframe\">\n",
              "  <thead>\n",
              "    <tr style=\"text-align: right;\">\n",
              "      <th></th>\n",
              "      <th>Reviewer Name</th>\n",
              "      <th>Profile Link</th>\n",
              "      <th>Country</th>\n",
              "      <th>Review Count</th>\n",
              "      <th>Review Date</th>\n",
              "      <th>Rating</th>\n",
              "      <th>Review Title</th>\n",
              "      <th>Review Text</th>\n",
              "      <th>Date of Experience</th>\n",
              "    </tr>\n",
              "  </thead>\n",
              "  <tbody>\n",
              "    <tr>\n",
              "      <th>0</th>\n",
              "      <td>Champagne</td>\n",
              "      <td>/users/66c78240087b6269ffbcb5fb</td>\n",
              "      <td>US</td>\n",
              "      <td>1 review</td>\n",
              "      <td>2024-08-22T20:24:02.000Z</td>\n",
              "      <td>Rated 5 out of 5 stars</td>\n",
              "      <td>I love ordering from fashion nova</td>\n",
              "      <td>I love ordering from fashion nova. The clothes...</td>\n",
              "      <td>August 22, 2024</td>\n",
              "    </tr>\n",
              "    <tr>\n",
              "      <th>1</th>\n",
              "      <td>Vg customer</td>\n",
              "      <td>/users/6618fdb53d4198001210cbe7</td>\n",
              "      <td>VG</td>\n",
              "      <td>3 reviews</td>\n",
              "      <td>2024-08-21T05:43:11.000Z</td>\n",
              "      <td>Rated 5 out of 5 stars</td>\n",
              "      <td>Top tier content for fashion nova</td>\n",
              "      <td>Always amazing clothes and the fast shipping i...</td>\n",
              "      <td>August 18, 2024</td>\n",
              "    </tr>\n",
              "    <tr>\n",
              "      <th>2</th>\n",
              "      <td>Colleen Burgher</td>\n",
              "      <td>/users/64e9595206be1a001244ff73</td>\n",
              "      <td>US</td>\n",
              "      <td>3 reviews</td>\n",
              "      <td>2024-08-21T17:09:14.000Z</td>\n",
              "      <td>Rated 5 out of 5 stars</td>\n",
              "      <td>Prices and quality of products are…</td>\n",
              "      <td>Prices and quality of products are GREAT Would...</td>\n",
              "      <td>August 21, 2024</td>\n",
              "    </tr>\n",
              "    <tr>\n",
              "      <th>3</th>\n",
              "      <td>R.G.M</td>\n",
              "      <td>/users/66c58ad1c6ab36352a08f57a</td>\n",
              "      <td>US</td>\n",
              "      <td>1 review</td>\n",
              "      <td>2024-08-21T08:36:03.000Z</td>\n",
              "      <td>Rated 5 out of 5 stars</td>\n",
              "      <td>Great customer service</td>\n",
              "      <td>Great customer service. I was helped until the...</td>\n",
              "      <td>August 20, 2024</td>\n",
              "    </tr>\n",
              "    <tr>\n",
              "      <th>4</th>\n",
              "      <td>Rosalyn Cousar</td>\n",
              "      <td>/users/60ad4b6ef3788e001adbb8e3</td>\n",
              "      <td>US</td>\n",
              "      <td>5 reviews</td>\n",
              "      <td>2024-08-22T00:46:16.000Z</td>\n",
              "      <td>Rated 3 out of 5 stars</td>\n",
              "      <td>False advertising</td>\n",
              "      <td>Disappointing experience. You don’t live up to...</td>\n",
              "      <td>August 21, 2024</td>\n",
              "    </tr>\n",
              "  </tbody>\n",
              "</table>\n",
              "</div>\n",
              "    <div class=\"colab-df-buttons\">\n",
              "\n",
              "  <div class=\"colab-df-container\">\n",
              "    <button class=\"colab-df-convert\" onclick=\"convertToInteractive('df-34affe2d-4bc6-4c4e-8a19-4b9bb7827f0b')\"\n",
              "            title=\"Convert this dataframe to an interactive table.\"\n",
              "            style=\"display:none;\">\n",
              "\n",
              "  <svg xmlns=\"http://www.w3.org/2000/svg\" height=\"24px\" viewBox=\"0 -960 960 960\">\n",
              "    <path d=\"M120-120v-720h720v720H120Zm60-500h600v-160H180v160Zm220 220h160v-160H400v160Zm0 220h160v-160H400v160ZM180-400h160v-160H180v160Zm440 0h160v-160H620v160ZM180-180h160v-160H180v160Zm440 0h160v-160H620v160Z\"/>\n",
              "  </svg>\n",
              "    </button>\n",
              "\n",
              "  <style>\n",
              "    .colab-df-container {\n",
              "      display:flex;\n",
              "      gap: 12px;\n",
              "    }\n",
              "\n",
              "    .colab-df-convert {\n",
              "      background-color: #E8F0FE;\n",
              "      border: none;\n",
              "      border-radius: 50%;\n",
              "      cursor: pointer;\n",
              "      display: none;\n",
              "      fill: #1967D2;\n",
              "      height: 32px;\n",
              "      padding: 0 0 0 0;\n",
              "      width: 32px;\n",
              "    }\n",
              "\n",
              "    .colab-df-convert:hover {\n",
              "      background-color: #E2EBFA;\n",
              "      box-shadow: 0px 1px 2px rgba(60, 64, 67, 0.3), 0px 1px 3px 1px rgba(60, 64, 67, 0.15);\n",
              "      fill: #174EA6;\n",
              "    }\n",
              "\n",
              "    .colab-df-buttons div {\n",
              "      margin-bottom: 4px;\n",
              "    }\n",
              "\n",
              "    [theme=dark] .colab-df-convert {\n",
              "      background-color: #3B4455;\n",
              "      fill: #D2E3FC;\n",
              "    }\n",
              "\n",
              "    [theme=dark] .colab-df-convert:hover {\n",
              "      background-color: #434B5C;\n",
              "      box-shadow: 0px 1px 3px 1px rgba(0, 0, 0, 0.15);\n",
              "      filter: drop-shadow(0px 1px 2px rgba(0, 0, 0, 0.3));\n",
              "      fill: #FFFFFF;\n",
              "    }\n",
              "  </style>\n",
              "\n",
              "    <script>\n",
              "      const buttonEl =\n",
              "        document.querySelector('#df-34affe2d-4bc6-4c4e-8a19-4b9bb7827f0b button.colab-df-convert');\n",
              "      buttonEl.style.display =\n",
              "        google.colab.kernel.accessAllowed ? 'block' : 'none';\n",
              "\n",
              "      async function convertToInteractive(key) {\n",
              "        const element = document.querySelector('#df-34affe2d-4bc6-4c4e-8a19-4b9bb7827f0b');\n",
              "        const dataTable =\n",
              "          await google.colab.kernel.invokeFunction('convertToInteractive',\n",
              "                                                    [key], {});\n",
              "        if (!dataTable) return;\n",
              "\n",
              "        const docLinkHtml = 'Like what you see? Visit the ' +\n",
              "          '<a target=\"_blank\" href=https://colab.research.google.com/notebooks/data_table.ipynb>data table notebook</a>'\n",
              "          + ' to learn more about interactive tables.';\n",
              "        element.innerHTML = '';\n",
              "        dataTable['output_type'] = 'display_data';\n",
              "        await google.colab.output.renderOutput(dataTable, element);\n",
              "        const docLink = document.createElement('div');\n",
              "        docLink.innerHTML = docLinkHtml;\n",
              "        element.appendChild(docLink);\n",
              "      }\n",
              "    </script>\n",
              "  </div>\n",
              "\n",
              "\n",
              "<div id=\"df-e6660591-6a2f-4908-aef8-b40076da036e\">\n",
              "  <button class=\"colab-df-quickchart\" onclick=\"quickchart('df-e6660591-6a2f-4908-aef8-b40076da036e')\"\n",
              "            title=\"Suggest charts\"\n",
              "            style=\"display:none;\">\n",
              "\n",
              "<svg xmlns=\"http://www.w3.org/2000/svg\" height=\"24px\"viewBox=\"0 0 24 24\"\n",
              "     width=\"24px\">\n",
              "    <g>\n",
              "        <path d=\"M19 3H5c-1.1 0-2 .9-2 2v14c0 1.1.9 2 2 2h14c1.1 0 2-.9 2-2V5c0-1.1-.9-2-2-2zM9 17H7v-7h2v7zm4 0h-2V7h2v10zm4 0h-2v-4h2v4z\"/>\n",
              "    </g>\n",
              "</svg>\n",
              "  </button>\n",
              "\n",
              "<style>\n",
              "  .colab-df-quickchart {\n",
              "      --bg-color: #E8F0FE;\n",
              "      --fill-color: #1967D2;\n",
              "      --hover-bg-color: #E2EBFA;\n",
              "      --hover-fill-color: #174EA6;\n",
              "      --disabled-fill-color: #AAA;\n",
              "      --disabled-bg-color: #DDD;\n",
              "  }\n",
              "\n",
              "  [theme=dark] .colab-df-quickchart {\n",
              "      --bg-color: #3B4455;\n",
              "      --fill-color: #D2E3FC;\n",
              "      --hover-bg-color: #434B5C;\n",
              "      --hover-fill-color: #FFFFFF;\n",
              "      --disabled-bg-color: #3B4455;\n",
              "      --disabled-fill-color: #666;\n",
              "  }\n",
              "\n",
              "  .colab-df-quickchart {\n",
              "    background-color: var(--bg-color);\n",
              "    border: none;\n",
              "    border-radius: 50%;\n",
              "    cursor: pointer;\n",
              "    display: none;\n",
              "    fill: var(--fill-color);\n",
              "    height: 32px;\n",
              "    padding: 0;\n",
              "    width: 32px;\n",
              "  }\n",
              "\n",
              "  .colab-df-quickchart:hover {\n",
              "    background-color: var(--hover-bg-color);\n",
              "    box-shadow: 0 1px 2px rgba(60, 64, 67, 0.3), 0 1px 3px 1px rgba(60, 64, 67, 0.15);\n",
              "    fill: var(--button-hover-fill-color);\n",
              "  }\n",
              "\n",
              "  .colab-df-quickchart-complete:disabled,\n",
              "  .colab-df-quickchart-complete:disabled:hover {\n",
              "    background-color: var(--disabled-bg-color);\n",
              "    fill: var(--disabled-fill-color);\n",
              "    box-shadow: none;\n",
              "  }\n",
              "\n",
              "  .colab-df-spinner {\n",
              "    border: 2px solid var(--fill-color);\n",
              "    border-color: transparent;\n",
              "    border-bottom-color: var(--fill-color);\n",
              "    animation:\n",
              "      spin 1s steps(1) infinite;\n",
              "  }\n",
              "\n",
              "  @keyframes spin {\n",
              "    0% {\n",
              "      border-color: transparent;\n",
              "      border-bottom-color: var(--fill-color);\n",
              "      border-left-color: var(--fill-color);\n",
              "    }\n",
              "    20% {\n",
              "      border-color: transparent;\n",
              "      border-left-color: var(--fill-color);\n",
              "      border-top-color: var(--fill-color);\n",
              "    }\n",
              "    30% {\n",
              "      border-color: transparent;\n",
              "      border-left-color: var(--fill-color);\n",
              "      border-top-color: var(--fill-color);\n",
              "      border-right-color: var(--fill-color);\n",
              "    }\n",
              "    40% {\n",
              "      border-color: transparent;\n",
              "      border-right-color: var(--fill-color);\n",
              "      border-top-color: var(--fill-color);\n",
              "    }\n",
              "    60% {\n",
              "      border-color: transparent;\n",
              "      border-right-color: var(--fill-color);\n",
              "    }\n",
              "    80% {\n",
              "      border-color: transparent;\n",
              "      border-right-color: var(--fill-color);\n",
              "      border-bottom-color: var(--fill-color);\n",
              "    }\n",
              "    90% {\n",
              "      border-color: transparent;\n",
              "      border-bottom-color: var(--fill-color);\n",
              "    }\n",
              "  }\n",
              "</style>\n",
              "\n",
              "  <script>\n",
              "    async function quickchart(key) {\n",
              "      const quickchartButtonEl =\n",
              "        document.querySelector('#' + key + ' button');\n",
              "      quickchartButtonEl.disabled = true;  // To prevent multiple clicks.\n",
              "      quickchartButtonEl.classList.add('colab-df-spinner');\n",
              "      try {\n",
              "        const charts = await google.colab.kernel.invokeFunction(\n",
              "            'suggestCharts', [key], {});\n",
              "      } catch (error) {\n",
              "        console.error('Error during call to suggestCharts:', error);\n",
              "      }\n",
              "      quickchartButtonEl.classList.remove('colab-df-spinner');\n",
              "      quickchartButtonEl.classList.add('colab-df-quickchart-complete');\n",
              "    }\n",
              "    (() => {\n",
              "      let quickchartButtonEl =\n",
              "        document.querySelector('#df-e6660591-6a2f-4908-aef8-b40076da036e button');\n",
              "      quickchartButtonEl.style.display =\n",
              "        google.colab.kernel.accessAllowed ? 'block' : 'none';\n",
              "    })();\n",
              "  </script>\n",
              "</div>\n",
              "\n",
              "    </div>\n",
              "  </div>\n"
            ],
            "application/vnd.google.colaboratory.intrinsic+json": {
              "type": "dataframe",
              "variable_name": "fashion_nova"
            }
          },
          "metadata": {},
          "execution_count": 3
        }
      ]
    },
    {
      "cell_type": "code",
      "source": [
        "print(sum(amazon['Review Text'].isna()))\n",
        "print(sum(amazon['Title'].isna()))\n",
        "print(sum(amazon['Rating'].isna()))\n",
        "\n",
        "print(sum(fashion_nova['Review Text'].isna()))\n",
        "print(sum(fashion_nova['Review Title'].isna()))\n",
        "print(sum(fashion_nova['Rating'].isna()))"
      ],
      "metadata": {
        "colab": {
          "base_uri": "https://localhost:8080/"
        },
        "id": "Xud3Qj89MPGa",
        "outputId": "f679f50f-14d8-4fb1-8b8b-5c75f53691f5"
      },
      "id": "Xud3Qj89MPGa",
      "execution_count": 4,
      "outputs": [
        {
          "output_type": "stream",
          "name": "stdout",
          "text": [
            "229\n",
            "1068\n",
            "0\n",
            "0\n",
            "48\n",
            "0\n"
          ]
        }
      ]
    },
    {
      "cell_type": "code",
      "source": [
        "# cleaning: drop if missing review text, convert rating into int\n",
        "amazon = amazon.dropna(subset=['Review Text'])\n",
        "\n",
        "rating_column = fashion_nova['Rating'].str.extract(r'Rated (\\d) out of 5 stars').astype(int)\n",
        "fashion_nova['Rating'] = rating_column"
      ],
      "metadata": {
        "id": "GIYbkcSef3YC"
      },
      "id": "GIYbkcSef3YC",
      "execution_count": 5,
      "outputs": []
    },
    {
      "cell_type": "code",
      "source": [
        "print(sum(amazon['Review Text'].isna()))\n",
        "print(sum(fashion_nova['Review Text'].isna()))"
      ],
      "metadata": {
        "id": "SZMsnULKftOf",
        "outputId": "3cd695a8-43ba-447c-ab13-33d6eae2bc52",
        "colab": {
          "base_uri": "https://localhost:8080/"
        }
      },
      "id": "SZMsnULKftOf",
      "execution_count": 6,
      "outputs": [
        {
          "output_type": "stream",
          "name": "stdout",
          "text": [
            "0\n",
            "0\n"
          ]
        }
      ]
    },
    {
      "cell_type": "code",
      "source": [
        "df = pd.DataFrame()\n",
        "df['Fashion Nova_shipping'] = fashion_nova['Review Text'].str.count(r'\\bshipping\\b')\n",
        "df['Amazon_shipping'] = amazon['Review Text'].str.count(r'\\bshipping\\b')\n",
        "df['Fashion Nova_quality'] = fashion_nova['Review Text'].str.count(r'\\bquality\\b')\n",
        "df['Amazon_quality'] = amazon['Review Text'].str.count(r'\\bquality\\b')"
      ],
      "metadata": {
        "id": "F0Q8S2nb4ycs"
      },
      "id": "F0Q8S2nb4ycs",
      "execution_count": 7,
      "outputs": []
    },
    {
      "cell_type": "code",
      "source": [
        "for column in df.columns:\n",
        "  print(f\"Counts for {column}:\")\n",
        "  print(df[column].value_counts())\n",
        "  print(\"\\n\")\n"
      ],
      "metadata": {
        "colab": {
          "base_uri": "https://localhost:8080/"
        },
        "id": "Z_ZxgiUvFE7u",
        "outputId": "d5153572-1096-4a22-82f3-ff4870b74128"
      },
      "id": "Z_ZxgiUvFE7u",
      "execution_count": 8,
      "outputs": [
        {
          "output_type": "stream",
          "name": "stdout",
          "text": [
            "Counts for Fashion Nova_shipping:\n",
            "Fashion Nova_shipping\n",
            "0     124276\n",
            "1       6466\n",
            "2        921\n",
            "3        215\n",
            "4         56\n",
            "5         27\n",
            "6         10\n",
            "7          5\n",
            "8          2\n",
            "10         1\n",
            "9          1\n",
            "Name: count, dtype: int64\n",
            "\n",
            "\n",
            "Counts for Amazon_shipping:\n",
            "Amazon_shipping\n",
            "0.0    6282\n",
            "1.0      14\n",
            "Name: count, dtype: int64\n",
            "\n",
            "\n",
            "Counts for Fashion Nova_quality:\n",
            "Fashion Nova_quality\n",
            "0    123654\n",
            "1      8071\n",
            "2       222\n",
            "3        27\n",
            "4         4\n",
            "6         1\n",
            "5         1\n",
            "Name: count, dtype: int64\n",
            "\n",
            "\n",
            "Counts for Amazon_quality:\n",
            "Amazon_quality\n",
            "0.0    5707\n",
            "1.0     564\n",
            "2.0      23\n",
            "3.0       2\n",
            "Name: count, dtype: int64\n",
            "\n",
            "\n"
          ]
        }
      ]
    },
    {
      "cell_type": "code",
      "source": [
        "import nltk\n",
        "from nltk.corpus import stopwords\n",
        "from nltk.tokenize import word_tokenize\n",
        "nltk.download('stopwords')\n",
        "nltk.download('punkt')"
      ],
      "metadata": {
        "id": "yEGXL6CjfRS0",
        "outputId": "56f07b03-18b7-4fae-9f88-a233c2997232",
        "colab": {
          "base_uri": "https://localhost:8080/"
        }
      },
      "id": "yEGXL6CjfRS0",
      "execution_count": 9,
      "outputs": [
        {
          "output_type": "stream",
          "name": "stderr",
          "text": [
            "[nltk_data] Downloading package stopwords to /root/nltk_data...\n",
            "[nltk_data]   Unzipping corpora/stopwords.zip.\n",
            "[nltk_data] Downloading package punkt to /root/nltk_data...\n",
            "[nltk_data]   Unzipping tokenizers/punkt.zip.\n"
          ]
        },
        {
          "output_type": "execute_result",
          "data": {
            "text/plain": [
              "True"
            ]
          },
          "metadata": {},
          "execution_count": 9
        }
      ]
    },
    {
      "cell_type": "code",
      "source": [
        "# defining stop words to remove insignificant words when tokenizing (splitting up) our review text\n",
        "stop_words = set(stopwords.words('english'))\n",
        "custom_stop_words = {}\n",
        "stop_words.update(custom_stop_words)\n",
        "\n",
        "def preprocess(text):\n",
        "  tokens = word_tokenize(text.lower())\n",
        "  tokens = [token for token in tokens if token.isalpha()]\n",
        "  tokens = [token for token in tokens if token not in stop_words]\n",
        "  return tokens\n",
        "\n",
        "amazon['Processed_Reviews'] = amazon['Review Text'].apply(preprocess)\n",
        "fashion_nova['Processed_Reviews'] = fashion_nova['Review Text'].apply(preprocess)\n"
      ],
      "metadata": {
        "id": "CfAWEYwWmU7J"
      },
      "id": "CfAWEYwWmU7J",
      "execution_count": 10,
      "outputs": []
    },
    {
      "cell_type": "code",
      "source": [
        "def categorize_review(text):\n",
        "  shipping_keywords = ['shipping', 'delivery', 'shipment', 'deliver', 'time', 'packaging', 'box', 'late', 'early', 'fast', 'slow', 'arrived', 'delivered', 'received']\n",
        "  quality_keywords = ['quality', 'fit', 'length', 'material', 'fabric', 'cheap', 'shape', 'style', 'clothing', 'made', 'size', 'thin']\n",
        "\n",
        "  shipping = any(word in text for word in shipping_keywords)\n",
        "  quality = any(word in text for word in quality_keywords)\n",
        "\n",
        "  if shipping and quality:\n",
        "    return 'Both'\n",
        "  elif shipping:\n",
        "    return 'Shipping'\n",
        "  elif quality:\n",
        "    return 'Quality'\n",
        "  else:\n",
        "    return 'Other'\n",
        "\n",
        "amazon['Category'] = amazon['Processed_Reviews'].apply(categorize_review)\n",
        "fashion_nova['Category'] = fashion_nova['Processed_Reviews'].apply(categorize_review)"
      ],
      "metadata": {
        "id": "0yFPZyl0mVyk"
      },
      "id": "0yFPZyl0mVyk",
      "execution_count": 11,
      "outputs": []
    },
    {
      "cell_type": "code",
      "source": [
        "category_comparison = pd.DataFrame({\n",
        "    'Amazon': amazon['Category'].value_counts(),\n",
        "    'Fashion Nova': fashion_nova['Category'].value_counts()\n",
        "}).fillna(0)\n",
        "\n",
        "\n",
        "print(category_comparison)"
      ],
      "metadata": {
        "id": "gd-y8ZQtnehj",
        "outputId": "ff005849-8a97-4cfd-c530-9e53edb09255",
        "colab": {
          "base_uri": "https://localhost:8080/"
        }
      },
      "id": "gd-y8ZQtnehj",
      "execution_count": 12,
      "outputs": [
        {
          "output_type": "stream",
          "name": "stdout",
          "text": [
            "          Amazon  Fashion Nova\n",
            "Category                      \n",
            "Both         481          6825\n",
            "Other       1549         90651\n",
            "Quality     4091         17017\n",
            "Shipping     175         17487\n"
          ]
        }
      ]
    },
    {
      "cell_type": "code",
      "source": [
        "# print by percentage\n",
        "category_percentage = category_comparison.div(category_comparison.sum(axis=0), axis=1) * 100\n",
        "print(category_percentage)\n"
      ],
      "metadata": {
        "colab": {
          "base_uri": "https://localhost:8080/"
        },
        "id": "Y4C3v06YwDqM",
        "outputId": "4c6569c2-cea4-484a-9144-3bd3a78c3b00"
      },
      "id": "Y4C3v06YwDqM",
      "execution_count": 13,
      "outputs": [
        {
          "output_type": "stream",
          "name": "stdout",
          "text": [
            "             Amazon  Fashion Nova\n",
            "Category                         \n",
            "Both       7.639771      5.171238\n",
            "Other     24.602922     68.685407\n",
            "Quality   64.977764     12.893620\n",
            "Shipping   2.779543     13.249735\n"
          ]
        }
      ]
    },
    {
      "cell_type": "code",
      "source": [
        "import nltk\n",
        "nltk.download('vader_lexicon')"
      ],
      "metadata": {
        "colab": {
          "base_uri": "https://localhost:8080/"
        },
        "id": "I0aHTs2NwTs0",
        "outputId": "90bb5e03-e083-447e-dd28-5f81748c22eb"
      },
      "id": "I0aHTs2NwTs0",
      "execution_count": 14,
      "outputs": [
        {
          "output_type": "stream",
          "name": "stderr",
          "text": [
            "[nltk_data] Downloading package vader_lexicon to /root/nltk_data...\n"
          ]
        },
        {
          "output_type": "execute_result",
          "data": {
            "text/plain": [
              "True"
            ]
          },
          "metadata": {},
          "execution_count": 14
        }
      ]
    },
    {
      "cell_type": "code",
      "source": [
        "from nltk.sentiment import SentimentIntensityAnalyzer\n",
        "\n",
        "sia = SentimentIntensityAnalyzer()\n",
        "\n",
        "def get_sentiment(text):\n",
        "    sentiment_score = sia.polarity_scores(text)  # returns a dictionary {neg, neu, pos, compound}\n",
        "    compound = sentiment_score['compound']  # grabs compound score, assesses how pos, neg, or neu a review is (from polarity_scores)\n",
        "    if compound >= 0.05:\n",
        "        return 'Good'\n",
        "    elif compound <= -0.05:\n",
        "        return 'Bad'\n",
        "    else: # (-0.05, 0.05)\n",
        "        return 'Neutral'\n",
        "# amazon['Sentiment'] = amazon['Review Text'].apply(get_sentiment)\n",
        "# fashion_nova['Sentiment'] = fashion_nova['Review Text'].apply(get_sentiment)\n",
        "\n",
        "# apply to preprocessed reviews\n",
        "amazon['Processed_Sentiment'] = amazon['Processed_Reviews'].apply(lambda tokens: get_sentiment(' '.join(tokens)))\n",
        "fashion_nova['Processed_Sentiment'] = fashion_nova['Processed_Reviews'].apply(lambda tokens: get_sentiment(' '.join(tokens)))\n"
      ],
      "metadata": {
        "id": "KYDf4TnPxxD0"
      },
      "id": "KYDf4TnPxxD0",
      "execution_count": 25,
      "outputs": []
    },
    {
      "cell_type": "code",
      "source": [
        "print(amazon[['Review Text', 'Processed_Sentiment', 'Category']].head())\n"
      ],
      "metadata": {
        "colab": {
          "base_uri": "https://localhost:8080/"
        },
        "id": "dHwxy6pbx1JF",
        "outputId": "aae9cf18-7d21-4af5-a4a4-6677140adc2a"
      },
      "id": "dHwxy6pbx1JF",
      "execution_count": 26,
      "outputs": [
        {
          "output_type": "stream",
          "name": "stdout",
          "text": [
            "                                         Review Text Processed_Sentiment  \\\n",
            "0  Absolutely wonderful - silky and sexy and comf...                Good   \n",
            "1  Love this dress!  it's sooo pretty.  i happene...                Good   \n",
            "2  I had such high hopes for this dress and reall...                Good   \n",
            "3  I love, love, love this jumpsuit. it's fun, fl...                Good   \n",
            "4  This shirt is very flattering to all due to th...                Good   \n",
            "\n",
            "   Category  \n",
            "0     Other  \n",
            "1   Quality  \n",
            "2   Quality  \n",
            "3  Shipping  \n",
            "4   Quality  \n"
          ]
        }
      ]
    },
    {
      "cell_type": "code",
      "source": [
        "amazon_sentiment_counts = amazon.groupby(['Category', 'Processed_Sentiment']).size().reset_index(name='Count')\n",
        "fashion_nova_sentiment_counts = fashion_nova.groupby(['Category', 'Processed_Sentiment']).size().reset_index(name='Count')\n",
        "\n",
        "print(\"Amazon Review Sentiment Counts by Category:\")\n",
        "print(amazon_sentiment_counts)\n",
        "\n",
        "print(\"\\nFashion Nova Review Sentiment Counts by Category:\")\n",
        "print(fashion_nova_sentiment_counts)\n"
      ],
      "metadata": {
        "colab": {
          "base_uri": "https://localhost:8080/"
        },
        "id": "LmUiuS95y437",
        "outputId": "a4edf79e-cc0f-497c-84b7-5d040db745d0"
      },
      "id": "LmUiuS95y437",
      "execution_count": 27,
      "outputs": [
        {
          "output_type": "stream",
          "name": "stdout",
          "text": [
            "Amazon Review Sentiment Counts by Category:\n",
            "    Category Processed_Sentiment  Count\n",
            "0       Both                 Bad     23\n",
            "1       Both                Good    453\n",
            "2       Both             Neutral      5\n",
            "3      Other                 Bad     44\n",
            "4      Other                Good   1473\n",
            "5      Other             Neutral     32\n",
            "6    Quality                 Bad     78\n",
            "7    Quality                Good   3980\n",
            "8    Quality             Neutral     33\n",
            "9   Shipping                 Bad      5\n",
            "10  Shipping                Good    167\n",
            "11  Shipping             Neutral      3\n",
            "\n",
            "Fashion Nova Review Sentiment Counts by Category:\n",
            "    Category Processed_Sentiment  Count\n",
            "0       Both                 Bad    854\n",
            "1       Both                Good   5682\n",
            "2       Both             Neutral    289\n",
            "3      Other                 Bad   3981\n",
            "4      Other                Good  42190\n",
            "5      Other             Neutral  44480\n",
            "6    Quality                 Bad    915\n",
            "7    Quality                Good  15219\n",
            "8    Quality             Neutral    883\n",
            "9   Shipping                 Bad   3085\n",
            "10  Shipping                Good  11959\n",
            "11  Shipping             Neutral   2443\n"
          ]
        }
      ]
    },
    {
      "cell_type": "code",
      "source": [
        "# calculate percentage of each sentiment within each category\n",
        "def calculate_percentage(df):\n",
        "    total_by_category = df.groupby('Category').size().reset_index(name='Total')\n",
        "    sentiment_counts = df.groupby(['Category', 'Processed_Sentiment']).size().reset_index(name='Count')\n",
        "    merged = sentiment_counts.merge(total_by_category, on='Category')\n",
        "    merged['Percentage'] = (merged['Count'] / merged['Total']) * 100\n",
        "    return merged[['Category', 'Processed_Sentiment', 'Count', 'Total', 'Percentage']]\n",
        "\n",
        "amazon_percentages = calculate_percentage(amazon)\n",
        "fashion_nova_percentages = calculate_percentage(fashion_nova)\n",
        "\n",
        "print(\"Amazon Review Sentiment Percentages by Category:\")\n",
        "print(amazon_percentages)\n",
        "\n",
        "print(\"\\nFashion Nova Review Sentiment Percentages by Category:\")\n",
        "print(fashion_nova_percentages)\n"
      ],
      "metadata": {
        "colab": {
          "base_uri": "https://localhost:8080/"
        },
        "id": "vX_gtjz4z6hP",
        "outputId": "8e6a9378-e08d-4f88-a48c-5b2c68732307"
      },
      "id": "vX_gtjz4z6hP",
      "execution_count": 28,
      "outputs": [
        {
          "output_type": "stream",
          "name": "stdout",
          "text": [
            "Amazon Review Sentiment Percentages by Category:\n",
            "    Category Processed_Sentiment  Count  Total  Percentage\n",
            "0       Both                 Bad     23    481    4.781705\n",
            "1       Both                Good    453    481   94.178794\n",
            "2       Both             Neutral      5    481    1.039501\n",
            "3      Other                 Bad     44   1549    2.840542\n",
            "4      Other                Good   1473   1549   95.093609\n",
            "5      Other             Neutral     32   1549    2.065849\n",
            "6    Quality                 Bad     78   4091    1.906624\n",
            "7    Quality                Good   3980   4091   97.286727\n",
            "8    Quality             Neutral     33   4091    0.806649\n",
            "9   Shipping                 Bad      5    175    2.857143\n",
            "10  Shipping                Good    167    175   95.428571\n",
            "11  Shipping             Neutral      3    175    1.714286\n",
            "\n",
            "Fashion Nova Review Sentiment Percentages by Category:\n",
            "    Category Processed_Sentiment  Count  Total  Percentage\n",
            "0       Both                 Bad    854   6825   12.512821\n",
            "1       Both                Good   5682   6825   83.252747\n",
            "2       Both             Neutral    289   6825    4.234432\n",
            "3      Other                 Bad   3981  90651    4.391568\n",
            "4      Other                Good  42190  90651   46.541130\n",
            "5      Other             Neutral  44480  90651   49.067302\n",
            "6    Quality                 Bad    915  17017    5.376976\n",
            "7    Quality                Good  15219  17017   89.434095\n",
            "8    Quality             Neutral    883  17017    5.188929\n",
            "9   Shipping                 Bad   3085  17487   17.641677\n",
            "10  Shipping                Good  11959  17487   68.387945\n",
            "11  Shipping             Neutral   2443  17487   13.970378\n"
          ]
        }
      ]
    },
    {
      "cell_type": "code",
      "source": [
        "# distinguish between platforms\n",
        "amazon_percentages['Platform'] = 'Amazon'\n",
        "fashion_nova_percentages['Platform'] = 'Fashion Nova'\n",
        "\n",
        "# combine both datasets\n",
        "combined_percentages = pd.concat([amazon_percentages, fashion_nova_percentages], ignore_index=True, sort=False)\n",
        "\n",
        "plt.figure(figsize=(12, 6))\n",
        "sns.set(style=\"whitegrid\")\n",
        "\n",
        "# combined percentages, not separated by brand\n",
        "# sns.barplot(data=combined_percentages, x='Category', y='Percentage', hue='Processed_Sentiment', ci=None,\n",
        "#             palette='coolwarm', hue_order=['Good', 'Neutral', 'Bad'],\n",
        "#             dodge=True)\n",
        "\n",
        "g = sns.catplot(data=combined_percentages, x='Category', y='Percentage', hue='Processed_Sentiment',\n",
        "                col='Platform', kind='bar', height=5, aspect=1, palette='coolwarm',\n",
        "                hue_order=['Good', 'Neutral', 'Bad'])\n",
        "\n",
        "g.set_axis_labels(\"Category\", \"Percentage\")\n",
        "g.set_titles(\"{col_name} Reviews\")\n",
        "g.fig.suptitle('Sentiment Distribution by Category for Amazon and Fashion Nova', y=1.03, fontsize=14)\n",
        "\n",
        "# Rename the legend labels by getting the handles and labels\n",
        "handles, labels = g.fig.axes[1].get_legend_handles_labels()\n",
        "\n",
        "# Set custom labels for the legend (renaming)\n",
        "new_labels = ['Positive', 'Neutral', 'Negative']  # Rename the labels as desired\n",
        "\n",
        "# Move and update the legend using plt.legend()\n",
        "g.fig.legend(handles=handles, labels=new_labels, title='Sentiment',\n",
        "             loc='upper center', ncol=3, bbox_to_anchor=(0.5, 1.15))\n",
        "\n",
        "\n",
        "plt.tight_layout()\n",
        "plt.show()\n"
      ],
      "metadata": {
        "colab": {
          "base_uri": "https://localhost:8080/",
          "height": 603
        },
        "id": "Qrju0gOi0Sf6",
        "outputId": "6f12e755-72eb-4839-956b-508f89ee1f49"
      },
      "id": "Qrju0gOi0Sf6",
      "execution_count": 48,
      "outputs": [
        {
          "output_type": "display_data",
          "data": {
            "text/plain": [
              "<Figure size 1200x600 with 0 Axes>"
            ]
          },
          "metadata": {}
        },
        {
          "output_type": "display_data",
          "data": {
            "text/plain": [
              "<Figure size 1190.6x500 with 2 Axes>"
            ],
            "image/png": "[encoded data removed]"
          },
          "metadata": {}
        }
      ]
    },
    {
      "cell_type": "code",
      "source": [
        "# plot data per type of review in category\n",
        "def plot_category(category, df):\n",
        "    plt.figure(figsize=(8, 6))\n",
        "    sns.set(style=\"whitegrid\")\n",
        "\n",
        "    # filters through percentages\n",
        "    category_df = df[df['Category'] == category]\n",
        "\n",
        "    sns.barplot(data=category_df, x='Processed_Sentiment', y='Percentage', hue='Platform',\n",
        "                ci=None, palette='coolwarm', dodge=True, hue_order=['Amazon', 'Fashion Nova'])\n",
        "\n",
        "    plt.title(f'Sentiment Analysis for {category} Reviews', fontsize=14)\n",
        "    plt.xlabel('Sentiment', fontsize=12)\n",
        "    plt.ylabel('Percentage', fontsize=12)\n",
        "    plt.legend(title='Platform')\n",
        "\n",
        "    plt.tight_layout()\n",
        "    plt.show()\n",
        "\n",
        "# ignores \"other\" in category\n",
        "plot_category('Shipping', combined_percentages)\n",
        "plot_category('Quality', combined_percentages)\n",
        "plot_category('Both', combined_percentages)\n"
      ],
      "metadata": {
        "colab": {
          "base_uri": "https://localhost:8080/",
          "height": 1000
        },
        "id": "afjJoyyQ3S0e",
        "outputId": "fc163148-4305-483e-be69-01049e868b85"
      },
      "id": "afjJoyyQ3S0e",
      "execution_count": 32,
      "outputs": [
        {
          "output_type": "stream",
          "name": "stderr",
          "text": [
            "<ipython-input-32-0642857340dc>:10: FutureWarning: \n",
            "\n",
            "The `ci` parameter is deprecated. Use `errorbar=None` for the same effect.\n",
            "\n",
            "  sns.barplot(data=category_df, x='Processed_Sentiment', y='Percentage', hue='Platform',\n"
          ]
        },
        {
          "output_type": "display_data",
          "data": {
            "text/plain": [
              "<Figure size 800x600 with 1 Axes>"
            ],
            "image/png": "[encoded data removed]"
          },
          "metadata": {}
        },
        {
          "output_type": "stream",
          "name": "stderr",
          "text": [
            "<ipython-input-32-0642857340dc>:10: FutureWarning: \n",
            "\n",
            "The `ci` parameter is deprecated. Use `errorbar=None` for the same effect.\n",
            "\n",
            "  sns.barplot(data=category_df, x='Processed_Sentiment', y='Percentage', hue='Platform',\n"
          ]
        },
        {
          "output_type": "display_data",
          "data": {
            "text/plain": [
              "<Figure size 800x600 with 1 Axes>"
            ],
            "image/png": "[encoded data removed]"
          },
          "metadata": {}
        },
        {
          "output_type": "stream",
          "name": "stderr",
          "text": [
            "<ipython-input-32-0642857340dc>:10: FutureWarning: \n",
            "\n",
            "The `ci` parameter is deprecated. Use `errorbar=None` for the same effect.\n",
            "\n",
            "  sns.barplot(data=category_df, x='Processed_Sentiment', y='Percentage', hue='Platform',\n"
          ]
        },
        {
          "output_type": "display_data",
          "data": {
            "text/plain": [
              "<Figure size 800x600 with 1 Axes>"
            ],
            "image/png": "[encoded data removed]"
          },
          "metadata": {}
        }
      ]
    }
  ],
  "metadata": {
    "colab": {
      "provenance": []
    },
    "kernelspec": {
      "display_name": "Python 3 (ipykernel)",
      "language": "python",
      "name": "python3"
    },
    "language_info": {
      "codemirror_mode": {
        "name": "ipython",
        "version": 3
      },
      "file_extension": ".py",
      "mimetype": "text/x-python",
      "name": "python",
      "nbconvert_exporter": "python",
      "pygments_lexer": "ipython3",
      "version": "3.10.4"
    }
  },
  "nbformat": 4,
  "nbformat_minor": 5
}